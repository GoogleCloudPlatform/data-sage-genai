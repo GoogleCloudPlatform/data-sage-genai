{
 "cells": [
  {
   "cell_type": "code",
   "execution_count": 1,
   "id": "03635a95-8140-4e21-bc80-cf3ea84026fa",
   "metadata": {
    "tags": []
   },
   "outputs": [],
   "source": [
    "# import packages\n",
    "from vertexai.language_models import TextEmbeddingModel\n",
    "from google.cloud import aiplatform\n",
    "import vertexai\n",
    "from vertexai.preview.generative_models import GenerativeModel, Part"
   ]
  },
  {
   "cell_type": "code",
   "execution_count": 2,
   "id": "6313ffea-b14b-4fc0-9f7c-b62ac9a8c53f",
   "metadata": {
    "tags": []
   },
   "outputs": [],
   "source": [
    "# Initialize Variables\n",
    "# Replace your PROJECT_ID value here\n",
    "project=\"genai-demo-2024\"\n",
    "# Replace your GCP REGION LOCATION value here\n",
    "location=\"us-central1\"\n",
    "# Replace your  Google Cloud Storage Bucket Name   here, this is where your embedding files are stored.\n",
    "bucket_name=\"gcp-newsletter-rag-vertex2\"\n",
    "# Replace with Vertex AI vector search index you want to create and deploy\n",
    "index_name=\"bqrelease_index\""
   ]
  },
  {
   "cell_type": "code",
   "execution_count": 3,
   "id": "1a58d326-c3f7-4e2a-b464-cb25ddc1c292",
   "metadata": {
    "tags": []
   },
   "outputs": [],
   "source": [
    "# Function that creates & deploy the Vertex AI vector search index\n",
    "\n",
    "def create_vector_index(index_name):\n",
    "    bqrelease_index = aiplatform.MatchingEngineIndex.create_tree_ah_index(\n",
    "        display_name = index_name,\n",
    "        contents_delta_uri = \"gs://\"+bucket_name,\n",
    "        dimensions = 768,\n",
    "        approximate_neighbors_count = 10,\n",
    "    )\n",
    "\n",
    "    bqrelease_index_endpoint = aiplatform.MatchingEngineIndexEndpoint.create(\n",
    "        display_name = index_name,\n",
    "        public_endpoint_enabled = True\n",
    "    )\n",
    "\n",
    "    bqrelease_index_endpoint.deploy_index(\n",
    "        index = bqrelease_index,\n",
    "        deployed_index_id = index_name\n",
    "    )"
   ]
  },
  {
   "cell_type": "code",
   "execution_count": null,
   "id": "dbe9e399-3bf0-4545-9471-d60157db29b5",
   "metadata": {
    "tags": []
   },
   "outputs": [
    {
     "name": "stdout",
     "output_type": "stream",
     "text": [
      "Creating MatchingEngineIndex\n",
      "Create MatchingEngineIndex backing LRO: projects/292219499736/locations/us-central1/indexes/7341628254660329472/operations/8722570363285798912\n"
     ]
    }
   ],
   "source": [
    "# Create & deploy Vector Search Index - call the function\n",
    "vector_index = create_vector_index(index_name)"
   ]
  },
  {
   "cell_type": "code",
   "execution_count": null,
   "id": "e870282b-6bd5-46bc-9ce1-e631cfd6277d",
   "metadata": {},
   "outputs": [],
   "source": []
  }
 ],
 "metadata": {
  "kernelspec": {
   "display_name": "Python (Local)",
   "language": "python",
   "name": "base"
  },
  "language_info": {
   "codemirror_mode": {
    "name": "ipython",
    "version": 3
   },
   "file_extension": ".py",
   "mimetype": "text/x-python",
   "name": "python",
   "nbconvert_exporter": "python",
   "pygments_lexer": "ipython3",
   "version": "3.10.13"
  }
 },
 "nbformat": 4,
 "nbformat_minor": 5
}
